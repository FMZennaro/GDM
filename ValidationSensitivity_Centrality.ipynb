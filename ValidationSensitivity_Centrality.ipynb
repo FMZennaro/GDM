{
 "cells": [
  {
   "cell_type": "markdown",
   "metadata": {},
   "source": [
    "# Validation of sensitivity formula"
   ]
  },
  {
   "cell_type": "markdown",
   "metadata": {},
   "source": [
    "### Importing Libraries\n",
    "\n",
    "Importing standard libraries and the following modules:\n",
    "- *datagenerator.py*: containing data sources;\n",
    "- *normalizationlib.py*: containing functions to perform normalizations;\n",
    "- *aggregationlib.py*: containing functions to perform aggregation;\n",
    "- *exploitationlib.py*: containing functions to perform exploitation."
   ]
  },
  {
   "cell_type": "code",
   "execution_count": 41,
   "metadata": {},
   "outputs": [],
   "source": [
    "import numpy as np\n",
    "import matplotlib.pyplot as plt\n",
    "\n",
    "import datagenerator as data\n",
    "import normalizationlib as norm\n",
    "import aggregationlib as agg\n",
    "import exploitationlib as expl\n",
    "from msmtools.analysis import mfpt"
   ]
  },
  {
   "cell_type": "code",
   "execution_count": null,
   "metadata": {},
   "outputs": [],
   "source": [
    "We load the usual data"
   ]
  },
  {
   "cell_type": "code",
   "execution_count": 54,
   "metadata": {},
   "outputs": [],
   "source": [
    "P,labels = data.get_PREF_tensor_footballP2(0)"
   ]
  },
  {
   "cell_type": "markdown",
   "metadata": {},
   "source": [
    "Set the perturbation"
   ]
  },
  {
   "cell_type": "code",
   "execution_count": 89,
   "metadata": {},
   "outputs": [],
   "source": [
    "epsilon = 0.2"
   ]
  },
  {
   "cell_type": "markdown",
   "metadata": {},
   "source": [
    "Get the matrix $S$. Compute $\\tilde{S}$ by perturbing entry $p_{kl}$; in this case we change element (3,0)."
   ]
  },
  {
   "cell_type": "code",
   "execution_count": 90,
   "metadata": {},
   "outputs": [],
   "source": [
    "S = norm.centrality_tensor(P)\n",
    "\n",
    "k = 3\n",
    "l = 0\n",
    "T = S.copy()[:,:,0]\n",
    "\n",
    "Stilde = S.copy()\n",
    "Stilde[k,k,0] = Stilde[k,k,0]+epsilon/(T.shape[0]-1)\n",
    "Stilde[l,l,0] = Stilde[l,l,0]-epsilon/(T.shape[0]-1)\n",
    "\n",
    "Stilde[k,l,0] = Stilde[k,l,0]-epsilon/(T.shape[0]-1)\n",
    "Stilde[l,k,0] = Stilde[l,k,0]+epsilon/(T.shape[0]-1)"
   ]
  },
  {
   "cell_type": "markdown",
   "metadata": {},
   "source": [
    "Compute the stationary distribution $\\pi$ and $\\tilde{\\pi}$"
   ]
  },
  {
   "cell_type": "code",
   "execution_count": 91,
   "metadata": {},
   "outputs": [],
   "source": [
    "pi = expl.RCT_3D(S)[:,0]\n",
    "pitilde = expl.RCT_3D(Stilde)[:,0]"
   ]
  },
  {
   "cell_type": "markdown",
   "metadata": {},
   "source": [
    "Compute $\\pi_k - \\tilde{\\pi}_k$"
   ]
  },
  {
   "cell_type": "code",
   "execution_count": 92,
   "metadata": {},
   "outputs": [
    {
     "name": "stdout",
     "output_type": "stream",
     "text": [
      "-0.03332452914627662\n"
     ]
    }
   ],
   "source": [
    "A = pi[k] - pitilde[k]\n",
    "print(A)"
   ]
  },
  {
   "cell_type": "markdown",
   "metadata": {},
   "source": [
    "Compute $\\frac{\\epsilon}{n-1} m_{lk} \\pi_k (\\tilde{\\pi}_l - \\tilde{\\pi}_k)$"
   ]
  },
  {
   "cell_type": "code",
   "execution_count": 93,
   "metadata": {},
   "outputs": [
    {
     "name": "stdout",
     "output_type": "stream",
     "text": [
      "-0.004434470492680278\n"
     ]
    }
   ],
   "source": [
    "B = (epsilon/ (T.shape[0]-1)) * mfpt(T,l,k) * pi[k] * (pitilde[l]-pitilde[k])\n",
    "print(B)"
   ]
  },
  {
   "cell_type": "markdown",
   "metadata": {},
   "source": [
    "Print the difference"
   ]
  },
  {
   "cell_type": "code",
   "execution_count": 94,
   "metadata": {},
   "outputs": [
    {
     "data": {
      "text/plain": [
       "-0.028890058653596343"
      ]
     },
     "execution_count": 94,
     "metadata": {},
     "output_type": "execute_result"
    }
   ],
   "source": [
    "A - B"
   ]
  },
  {
   "cell_type": "code",
   "execution_count": null,
   "metadata": {},
   "outputs": [],
   "source": []
  }
 ],
 "metadata": {
  "kernelspec": {
   "display_name": "Python 3",
   "language": "python",
   "name": "python3"
  },
  "language_info": {
   "codemirror_mode": {
    "name": "ipython",
    "version": 3
   },
   "file_extension": ".py",
   "mimetype": "text/x-python",
   "name": "python",
   "nbconvert_exporter": "python",
   "pygments_lexer": "ipython3",
   "version": "3.6.10"
  }
 },
 "nbformat": 4,
 "nbformat_minor": 2
}
