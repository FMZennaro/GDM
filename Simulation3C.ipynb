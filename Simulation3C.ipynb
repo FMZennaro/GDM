{
 "cells": [
  {
   "cell_type": "markdown",
   "metadata": {},
   "source": [
    "# Simulation 3C\n",
    "\n",
    "In this simulation we assess the **sensitivity** of the *RC direct methods* using a parametric variant of the football example with data matrices ($P_1(i,j,\\epsilon), P_2$) and a fixed perturbation $\\epsilon$."
   ]
  },
  {
   "cell_type": "markdown",
   "metadata": {},
   "source": [
    "### Importing Libraries\n",
    "\n",
    "Importing standard libraries and the following modules:\n",
    "- *datagenerator.py*: containing data sources;\n",
    "- *normalizationlib.py*: containing functions to perform normalizations;\n",
    "- *aggregationlib.py*: containing functions to perform aggregation;\n",
    "- *exploitationlib.py*: containing functions to perform exploitation."
   ]
  },
  {
   "cell_type": "code",
   "execution_count": 1,
   "metadata": {},
   "outputs": [],
   "source": [
    "import numpy as np\n",
    "import matplotlib.pyplot as plt\n",
    "\n",
    "import datagenerator as data\n",
    "import normalizationlib as norm\n",
    "import exploitationlib as expl\n",
    "\n",
    "import joblib"
   ]
  },
  {
   "cell_type": "markdown",
   "metadata": {},
   "source": [
    "# Football Example\n",
    "\n",
    "We consider four team (Tunisia, Malta, Brazil, Argentina). The starting preferences of the two experts are: \n",
    "- Tunisia and Malta are weak teams;\n",
    "- Brazil and Argentina are strong teams;\n",
    "- Brazil beats Tunisia and Malta moderately;\n",
    "- Argentina beats Tunisia and Malta largely;\n",
    "- Brazil beats Argentina narrowly.\n",
    "\n",
    "At each iteration, we will apply the perturbation $\\epsilon$ to an entry of the first expert."
   ]
  },
  {
   "cell_type": "markdown",
   "metadata": {},
   "source": [
    "### Defining the GDM method"
   ]
  },
  {
   "cell_type": "code",
   "execution_count": 2,
   "metadata": {},
   "outputs": [],
   "source": [
    "def RC(S):\n",
    "    r = expl.RCT_3D(S)\n",
    "    return r[:,0]"
   ]
  },
  {
   "cell_type": "markdown",
   "metadata": {},
   "source": [
    "### Defining the parameters\n",
    "We define the fixed perturbation $\\epsilon=0.001$."
   ]
  },
  {
   "cell_type": "code",
   "execution_count": 3,
   "metadata": {},
   "outputs": [],
   "source": [
    "epsilon = 0.001"
   ]
  },
  {
   "cell_type": "markdown",
   "metadata": {},
   "source": [
    "### Running the simulations"
   ]
  },
  {
   "cell_type": "code",
   "execution_count": 4,
   "metadata": {},
   "outputs": [],
   "source": [
    "P,labels = data.get_PREF_tensor_footballP3(0,0,0)\n",
    "S = norm.centrality_tensor(P)\n",
    "unperturbed = RC(S)\n",
    "\n",
    "perturbed = {}\n",
    "\n",
    "n_choices = 4\n",
    "for i in range(n_choices):\n",
    "    for j in range(n_choices):\n",
    "        if(i!=j):\n",
    "            P,labels = data.get_PREF_tensor_footballP3(i,j,epsilon)\n",
    "            S = norm.centrality_tensor(P)\n",
    "            perturbed['{0},{1}'.format(i,j)] = RC(S)   "
   ]
  },
  {
   "cell_type": "code",
   "execution_count": 5,
   "metadata": {},
   "outputs": [
    {
     "data": {
      "text/plain": [
       "array([0.09931197, 0.06782959, 0.37320175, 0.45965668])"
      ]
     },
     "execution_count": 5,
     "metadata": {},
     "output_type": "execute_result"
    }
   ],
   "source": [
    "unperturbed"
   ]
  },
  {
   "cell_type": "code",
   "execution_count": 6,
   "metadata": {},
   "outputs": [
    {
     "data": {
      "text/plain": [
       "['unperturbed.pkl']"
      ]
     },
     "execution_count": 6,
     "metadata": {},
     "output_type": "execute_result"
    }
   ],
   "source": [
    "joblib.dump(unperturbed, 'unperturbed.pkl')"
   ]
  },
  {
   "cell_type": "code",
   "execution_count": 7,
   "metadata": {},
   "outputs": [
    {
     "data": {
      "text/plain": [
       "{'0,1': array([0.09937673, 0.06776797, 0.37320007, 0.45965523]),\n",
       " '0,2': array([0.0995111 , 0.06783501, 0.37291693, 0.45973696]),\n",
       " '0,3': array([0.09959183, 0.06787407, 0.37323457, 0.45929953]),\n",
       " '1,0': array([0.09924722, 0.06789121, 0.37320344, 0.45965813]),\n",
       " '1,2': array([0.09932699, 0.06799722, 0.37294036, 0.45973544]),\n",
       " '1,3': array([0.09937172, 0.068066  , 0.37323804, 0.45932425]),\n",
       " '2,0': array([0.09911277, 0.06782417, 0.37348668, 0.45957638]),\n",
       " '2,1': array([0.09929695, 0.0676619 , 0.37346326, 0.45957789]),\n",
       " '2,3': array([0.09937795, 0.06788631, 0.3737527 , 0.45898304]),\n",
       " '3,0': array([0.09903204, 0.06778511, 0.37316892, 0.46001393]),\n",
       " '3,1': array([0.09925221, 0.0675931 , 0.37316545, 0.45998924]),\n",
       " '3,2': array([0.09924598, 0.06777286, 0.37265064, 0.46033052])}"
      ]
     },
     "execution_count": 7,
     "metadata": {},
     "output_type": "execute_result"
    }
   ],
   "source": [
    "perturbed"
   ]
  },
  {
   "cell_type": "code",
   "execution_count": 8,
   "metadata": {},
   "outputs": [
    {
     "data": {
      "text/plain": [
       "['perturbed.pkl']"
      ]
     },
     "execution_count": 8,
     "metadata": {},
     "output_type": "execute_result"
    }
   ],
   "source": [
    "joblib.dump(unperturbed, 'perturbed.pkl')"
   ]
  },
  {
   "cell_type": "code",
   "execution_count": 9,
   "metadata": {},
   "outputs": [
    {
     "data": {
      "text/plain": [
       "Text(0, 0.5, 'L2-norm')"
      ]
     },
     "execution_count": 9,
     "metadata": {},
     "output_type": "execute_result"
    },
    {
     "data": {
      "image/png": "[encoded data removed]",
      "text/plain": [
       "<Figure size 432x288 with 1 Axes>"
      ]
     },
     "metadata": {
      "needs_background": "light"
     },
     "output_type": "display_data"
    }
   ],
   "source": [
    "labels = []\n",
    "norms = []\n",
    "\n",
    "for k,v in perturbed.items():\n",
    "    labels.append(k)\n",
    "    norms.append(np.linalg.norm(unperturbed-v))\n",
    "    \n",
    "plt.plot(range(len(norms)),norms)\n",
    "plt.xticks(ticks=range(len(norms)),labels=labels)\n",
    "plt.title('L2-norm with perturbation epsilon=0.001')\n",
    "plt.xlabel('Perturbed entry')\n",
    "plt.ylabel('L2-norm')"
   ]
  },
  {
   "cell_type": "code",
   "execution_count": null,
   "metadata": {},
   "outputs": [],
   "source": []
  }
 ],
 "metadata": {
  "kernelspec": {
   "display_name": "Python 3",
   "language": "python",
   "name": "python3"
  },
  "language_info": {
   "codemirror_mode": {
    "name": "ipython",
    "version": 3
   },
   "file_extension": ".py",
   "mimetype": "text/x-python",
   "name": "python",
   "nbconvert_exporter": "python",
   "pygments_lexer": "ipython3",
   "version": "3.6.10"
  }
 },
 "nbformat": 4,
 "nbformat_minor": 2
}
