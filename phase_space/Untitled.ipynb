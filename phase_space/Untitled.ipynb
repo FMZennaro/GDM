{
 "cells": [
  {
   "cell_type": "code",
   "execution_count": 1,
   "metadata": {},
   "outputs": [],
   "source": [
    "import numpy as np"
   ]
  },
  {
   "cell_type": "code",
   "execution_count": 33,
   "metadata": {},
   "outputs": [],
   "source": [
    "n_choices=5\n",
    "\n",
    "M = np.random.uniform(size=(n_choices,n_choices))\n",
    "\n",
    "Dl = np.tril(M,-1)\n",
    "Du = np.tril((1-M),-1)\n",
    "\n",
    "D = Dl + Du.T + np.diag([.5]*n_choices)\n"
   ]
  },
  {
   "cell_type": "code",
   "execution_count": 34,
   "metadata": {},
   "outputs": [
    {
     "data": {
      "text/plain": [
       "array([[0.5       , 0.32037163, 0.22227595, 0.76657676, 0.34495778],\n",
       "       [0.67962837, 0.5       , 0.24604354, 0.70096408, 0.15999291],\n",
       "       [0.77772405, 0.75395646, 0.5       , 0.48238773, 0.13362842],\n",
       "       [0.23342324, 0.29903592, 0.51761227, 0.5       , 0.2683173 ],\n",
       "       [0.65504222, 0.84000709, 0.86637158, 0.7316827 , 0.5       ]])"
      ]
     },
     "execution_count": 34,
     "metadata": {},
     "output_type": "execute_result"
    }
   ],
   "source": [
    "D"
   ]
  },
  {
   "cell_type": "code",
   "execution_count": 39,
   "metadata": {},
   "outputs": [],
   "source": [
    "n_experts = 5\n",
    "\n",
    "D = np.zeros((n_experts, n_choices, n_choices))\n",
    "\n",
    "for e in range(n_experts):\n",
    "    M = np.random.uniform(size=(n_choices,n_choices))\n",
    "\n",
    "    Dl = np.tril(M,-1)\n",
    "    Du = np.tril((1-M),-1)\n",
    "    \n",
    "    D[e,:,:] = Dl + Du.T + np.diag([.5]*n_choices)\n",
    "    "
   ]
  },
  {
   "cell_type": "code",
   "execution_count": 41,
   "metadata": {},
   "outputs": [
    {
     "data": {
      "text/plain": [
       "array([[0.5       , 0.77679732, 0.2838396 , 0.49348664, 0.22831887],\n",
       "       [0.22320268, 0.5       , 0.68375752, 0.50405064, 0.75097315],\n",
       "       [0.7161604 , 0.31624248, 0.5       , 0.40352921, 0.40673859],\n",
       "       [0.50651336, 0.49594936, 0.59647079, 0.5       , 0.8045521 ],\n",
       "       [0.77168113, 0.24902685, 0.59326141, 0.1954479 , 0.5       ]])"
      ]
     },
     "execution_count": 41,
     "metadata": {},
     "output_type": "execute_result"
    }
   ],
   "source": [
    "D[1,:,:]"
   ]
  },
  {
   "cell_type": "code",
   "execution_count": 21,
   "metadata": {},
   "outputs": [
    {
     "data": {
      "text/plain": [
       "array([[1.        , 0.4289719 , 0.53732071, 0.88638299, 0.69748597],\n",
       "       [1.        , 1.        , 0.1282974 , 0.3636023 , 0.18301506],\n",
       "       [1.        , 1.        , 1.        , 0.06175839, 0.09564214],\n",
       "       [1.        , 1.        , 1.        , 1.        , 0.3036321 ],\n",
       "       [1.        , 1.        , 1.        , 1.        , 1.        ]])"
      ]
     },
     "execution_count": 21,
     "metadata": {},
     "output_type": "execute_result"
    }
   ],
   "source": []
  },
  {
   "cell_type": "code",
   "execution_count": null,
   "metadata": {},
   "outputs": [],
   "source": []
  }
 ],
 "metadata": {
  "kernelspec": {
   "display_name": "Python 3",
   "language": "python",
   "name": "python3"
  },
  "language_info": {
   "codemirror_mode": {
    "name": "ipython",
    "version": 3
   },
   "file_extension": ".py",
   "mimetype": "text/x-python",
   "name": "python",
   "nbconvert_exporter": "python",
   "pygments_lexer": "ipython3",
   "version": "3.6.10"
  }
 },
 "nbformat": 4,
 "nbformat_minor": 4
}
