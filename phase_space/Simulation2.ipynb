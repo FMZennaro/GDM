{
 "cells": [
  {
   "cell_type": "markdown",
   "metadata": {},
   "source": [
    "# Simulation 2\n",
    "\n",
    "In this simulation we evaluate the dynamics of convergence of a set of *preference matrices* towards a *consensus*. We analyze a iterative protocol in which preference matrices are project onto *ranking vector* and, at each iteration, a randomly selected ranking vector moves closer to the average by an $\\epsilon$ step.\n",
    "\n",
    "We start by importing some libraries."
   ]
  },
  {
   "cell_type": "code",
   "execution_count": 1,
   "metadata": {},
   "outputs": [],
   "source": [
    "import numpy as np\n",
    "import matplotlib.pyplot as plt\n",
    "from tqdm import tqdm\n",
    "\n",
    "import data\n",
    "import phasespace as ps\n",
    "import normalizationlib as norm\n",
    "import exploitationlib as expl"
   ]
  },
  {
   "cell_type": "markdown",
   "metadata": {},
   "source": [
    "We set the parameters of the simulation: number of choices ($M$), number of experts ($E$), and step size ($\\epsilon$)."
   ]
  },
  {
   "cell_type": "code",
   "execution_count": 2,
   "metadata": {},
   "outputs": [],
   "source": [
    "n_experts = 6\n",
    "n_choices = 5\n",
    "\n",
    "stepsize = 0.01"
   ]
  },
  {
   "cell_type": "markdown",
   "metadata": {},
   "source": [
    "We load randomly-generated *preference matrices* ($M \\times M$) for each expert. A preference matrix encodes the preference of choice $i$ over choice $j$, for all $1 \\leq i,j \\leq M$. The data is returned in the form of a tensor $P$ ($M \\times M \\times E$)."
   ]
  },
  {
   "cell_type": "code",
   "execution_count": 3,
   "metadata": {},
   "outputs": [],
   "source": [
    "P = data.randomdata(n_experts=n_experts, n_choices=n_choices)"
   ]
  },
  {
   "cell_type": "markdown",
   "metadata": {},
   "source": [
    "We inspect the matrix of a random expert."
   ]
  },
  {
   "cell_type": "code",
   "execution_count": 4,
   "metadata": {},
   "outputs": [
    {
     "data": {
      "text/plain": [
       "array([[0.5       , 0.75927424, 0.68731426, 0.15265396, 0.37581214],\n",
       "       [0.24072576, 0.5       , 0.15232843, 0.27081248, 0.74519324],\n",
       "       [0.31268574, 0.84767157, 0.5       , 0.84381876, 0.78473723],\n",
       "       [0.84734604, 0.72918752, 0.15618124, 0.5       , 0.040977  ],\n",
       "       [0.62418786, 0.25480676, 0.21526277, 0.959023  , 0.5       ]])"
      ]
     },
     "execution_count": 4,
     "metadata": {},
     "output_type": "execute_result"
    }
   ],
   "source": [
    "P[:,:,np.random.randint(n_experts)]"
   ]
  },
  {
   "cell_type": "markdown",
   "metadata": {},
   "source": [
    "Notice that the diagonal is $0.5$ and that $p_{ij} + p_{ji} = 1$.\n",
    "\n",
    "We now normalize the preference matrices into *stochastic matrices*, still producing a tensor of the same shape $S$ ($M \\times M \\times E$)."
   ]
  },
  {
   "cell_type": "code",
   "execution_count": 5,
   "metadata": {},
   "outputs": [],
   "source": [
    "S = norm.centrality_tensor(P)"
   ]
  },
  {
   "cell_type": "markdown",
   "metadata": {},
   "source": [
    "We look again at the matrix of a random expert."
   ]
  },
  {
   "cell_type": "code",
   "execution_count": 6,
   "metadata": {},
   "outputs": [
    {
     "data": {
      "text/plain": [
       "array([[0.48550984, 0.23505578, 0.03405959, 0.24296384, 0.00241095],\n",
       "       [0.01494422, 0.62194791, 0.1653729 , 0.11524453, 0.08249044],\n",
       "       [0.21594041, 0.0846271 , 0.42677677, 0.07880019, 0.19385554],\n",
       "       [0.00703616, 0.13475547, 0.17119981, 0.64877579, 0.03823277],\n",
       "       [0.24758905, 0.16750956, 0.05614446, 0.21176723, 0.3169897 ]])"
      ]
     },
     "execution_count": 6,
     "metadata": {},
     "output_type": "execute_result"
    }
   ],
   "source": [
    "S[:,:,np.random.randint(n_experts)]"
   ]
  },
  {
   "cell_type": "markdown",
   "metadata": {},
   "source": [
    "Notice that the sum along the rows is $1$."
   ]
  },
  {
   "cell_type": "markdown",
   "metadata": {},
   "source": [
    "Next, for each expert we compute a *ranking vector* using the *rank-centrality* (a.k.a., *Pagerank*, *Markov Chain stationary distribution*). This produces a new matrix $r$ ($M \\times E$)."
   ]
  },
  {
   "cell_type": "code",
   "execution_count": 7,
   "metadata": {},
   "outputs": [
    {
     "name": "stderr",
     "output_type": "stream",
     "text": [
      "/home/fmzennaro/gits/GDM/phase_space/exploitationlib.py:28: ComplexWarning: Casting complex values to real discards the imaginary part\n",
      "  matrix[:,i] = n\n"
     ]
    }
   ],
   "source": [
    "r = expl.RCT_3D(S)"
   ]
  },
  {
   "cell_type": "markdown",
   "metadata": {},
   "source": [
    "We select the ranking for a random expert."
   ]
  },
  {
   "cell_type": "code",
   "execution_count": 8,
   "metadata": {},
   "outputs": [
    {
     "data": {
      "text/plain": [
       "array([0.21455983, 0.22203131, 0.07996332, 0.34636255, 0.13708299])"
      ]
     },
     "execution_count": 8,
     "metadata": {},
     "output_type": "execute_result"
    }
   ],
   "source": [
    "r[:,np.random.randint(n_experts)]"
   ]
  },
  {
   "cell_type": "markdown",
   "metadata": {},
   "source": [
    "The ranking vector is not actually a discrete ranking, it is, instead, a continuous vector expressing the absolute preference for choice $i$, for all $1 \\leq i \\leq M$. An actual ranking is simply derived from this vector by sorting.\n",
    "\n",
    "We now compute the average preference matrix $\\bar{P}$ and the average ranking vector $\\bar{r}$ as proxy for the consensus."
   ]
  },
  {
   "cell_type": "code",
   "execution_count": 9,
   "metadata": {},
   "outputs": [],
   "source": [
    "mean_P = np.mean(P,axis=2)\n",
    "mean_r = np.mean(r,axis=1)"
   ]
  },
  {
   "cell_type": "markdown",
   "metadata": {},
   "source": [
    "We look at the mean preference matrix $\\bar{P}$."
   ]
  },
  {
   "cell_type": "code",
   "execution_count": 10,
   "metadata": {},
   "outputs": [
    {
     "data": {
      "text/plain": [
       "array([[0.5       , 0.48678031, 0.59794312, 0.4151269 , 0.57624403],\n",
       "       [0.51321969, 0.5       , 0.6121935 , 0.38959693, 0.39224722],\n",
       "       [0.40205688, 0.3878065 , 0.5       , 0.59914783, 0.55030442],\n",
       "       [0.5848731 , 0.61040307, 0.40085217, 0.5       , 0.65217429],\n",
       "       [0.42375597, 0.60775278, 0.44969558, 0.34782571, 0.5       ]])"
      ]
     },
     "execution_count": 10,
     "metadata": {},
     "output_type": "execute_result"
    }
   ],
   "source": [
    "mean_P"
   ]
  },
  {
   "cell_type": "markdown",
   "metadata": {},
   "source": [
    "Diagonal is, as expect, $0.5$, and it still holds that that $p_{ij} + p_{ji} = 1$.\n",
    "\n",
    "Let us turn to the mean ranking vector $\\bar{r}$:"
   ]
  },
  {
   "cell_type": "code",
   "execution_count": 11,
   "metadata": {},
   "outputs": [
    {
     "data": {
      "text/plain": [
       "array([0.20309598, 0.18142729, 0.20927145, 0.23765927, 0.168546  ])"
      ]
     },
     "execution_count": 11,
     "metadata": {},
     "output_type": "execute_result"
    }
   ],
   "source": [
    "mean_r"
   ]
  },
  {
   "cell_type": "markdown",
   "metadata": {},
   "source": [
    "It consistently sum up to one.\n",
    "\n",
    "We now move on to analyze convergence taking the following step: \n",
    "1. We uniformly at random select an expert $e$\n",
    "2. We consider its ranking vector $r_e$ and take an $\\epsilon$-step towards the mean ranking vector $\\bar{r}$: $$r'_e \\leftarrow r_e + \\epsilon (\\bar{r}-r_e) $$,\n",
    "3. We compute a new preference matrix $P'$ for expert $e$ mapping back the ranking vector $r'_e$\n",
    "4. We re-evaluate the new mean preference matrices and mean ranking vectors.\n",
    "All this steps are repeated until convergence."
   ]
  },
  {
   "cell_type": "code",
   "execution_count": 12,
   "metadata": {},
   "outputs": [],
   "source": [
    "preferences_in_time = [P.copy()]\n",
    "consensus_in_time = [mean_r.copy()]\n",
    "\n",
    "while(not(ps.check_convergence(r.T,mean_r,norm='l2',epsilon=0.01))):\n",
    "    \n",
    "    random_expert = ps.sample_point(n_experts)\n",
    "    \n",
    "    delta_r = np.linalg.norm(r[:,random_expert]-mean_r)\n",
    "\n",
    "    rprime = ps.take_a_step(r[:,random_expert],mean_r,epsilon=stepsize)\n",
    "    Pprime = ps.map_back(rprime)\n",
    "    P[:,:,random_expert] = Pprime\n",
    "\n",
    "    S = norm.centrality_tensor(P)\n",
    "    r = expl.RCT_3D(S)\n",
    "    \n",
    "    mean_P = np.mean(P,axis=2)\n",
    "    mean_r = np.mean(r,axis=1)\n",
    "    \n",
    "    preferences_in_time.append(P.copy())\n",
    "    consensus_in_time.append(mean_r.copy())"
   ]
  },
  {
   "cell_type": "markdown",
   "metadata": {},
   "source": [
    "We plot the standard deviation of each dimension of the ranking space. This gives an estimate of how much average ranking vector (i.e., consensus) oscillated during the run of the algorithm."
   ]
  },
  {
   "cell_type": "code",
   "execution_count": 13,
   "metadata": {},
   "outputs": [
    {
     "data": {
      "text/plain": [
       "<matplotlib.colorbar.Colorbar at 0x7f4d8d7f52b0>"
      ]
     },
     "execution_count": 13,
     "metadata": {},
     "output_type": "execute_result"
    },
    {
     "data": {
      "image/png": "[encoded data removed]",
      "text/plain": [
       "<Figure size 1152x230.4 with 2 Axes>"
      ]
     },
     "metadata": {
      "needs_background": "light"
     },
     "output_type": "display_data"
    }
   ],
   "source": [
    "consensus_in_time = np.array(consensus_in_time)\n",
    "plt.matshow(np.expand_dims(np.std(consensus_in_time,axis=0),axis=0), cmap='binary')\n",
    "plt.colorbar()"
   ]
  },
  {
   "cell_type": "markdown",
   "metadata": {},
   "source": [
    "We also visualize, expert by expert, the variation in their preference matrices between the original preference matrix and the final preference matrix."
   ]
  },
  {
   "cell_type": "code",
   "execution_count": 14,
   "metadata": {},
   "outputs": [
    {
     "data": {
      "image/png": "[encoded data removed]",
      "text/plain": [
       "<Figure size 1080x1080 with 15 Axes>"
      ]
     },
     "metadata": {
      "needs_background": "light"
     },
     "output_type": "display_data"
    }
   ],
   "source": [
    "from mpl_toolkits.axes_grid1 import make_axes_locatable\n",
    "\n",
    "squareside = np.ceil(np.sqrt(n_experts)).astype('int')\n",
    "fig, ax = plt.subplots(squareside,squareside, figsize=(15,15))\n",
    "\n",
    "for e in range(n_experts):\n",
    "    im = ax[e//squareside, e%squareside].matshow(np.abs(preferences_in_time[0][:,:,e] - preferences_in_time[-1][:,:,e]))\n",
    "    ax[e//squareside, e%squareside].set_title('Variation of expert {0}'.format(e))\n",
    "\n",
    "    divider = make_axes_locatable(ax[e//squareside, e%squareside])\n",
    "    cax = divider.append_axes('right', size='5%', pad=0.05)\n",
    "    fig.colorbar(im, cax=cax, orientation='vertical')\n",
    "    "
   ]
  },
  {
   "cell_type": "markdown",
   "metadata": {},
   "source": [
    "Notice the symmetric patterns."
   ]
  }
 ],
 "metadata": {
  "kernelspec": {
   "display_name": "Python 3",
   "language": "python",
   "name": "python3"
  },
  "language_info": {
   "codemirror_mode": {
    "name": "ipython",
    "version": 3
   },
   "file_extension": ".py",
   "mimetype": "text/x-python",
   "name": "python",
   "nbconvert_exporter": "python",
   "pygments_lexer": "ipython3",
   "version": "3.6.10"
  }
 },
 "nbformat": 4,
 "nbformat_minor": 4
}
