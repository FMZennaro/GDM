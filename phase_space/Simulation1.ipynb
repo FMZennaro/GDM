{
 "cells": [
  {
   "cell_type": "markdown",
   "metadata": {},
   "source": [
    "# Simulation 1\n",
    "\n",
    "In this simulation we evaluate qualitatively the dynamics of convergence of points (*opinions*) to a barycenter (*consensus*) when at each timestep a randomly selected point takes an $\\epsilon$-step towards the barycenter in the point phase-space (*space of opinions*).\n",
    "\n",
    "We start by importing some libraries."
   ]
  },
  {
   "cell_type": "code",
   "execution_count": 1,
   "metadata": {},
   "outputs": [],
   "source": [
    "import numpy as np\n",
    "import matplotlib.pyplot as plt\n",
    "from tqdm import tqdm\n",
    "\n",
    "import data\n",
    "import phasespace as ps"
   ]
  },
  {
   "cell_type": "markdown",
   "metadata": {},
   "source": [
    "We import a set of 3 points. Notice that the component of these three points expresses a preference (and theoretically, they should sum to $1$, although they do not in this simulation). "
   ]
  },
  {
   "cell_type": "code",
   "execution_count": 2,
   "metadata": {},
   "outputs": [],
   "source": [
    "P = data.datapoints1()"
   ]
  },
  {
   "cell_type": "markdown",
   "metadata": {},
   "source": [
    "We computer the initial barycenter."
   ]
  },
  {
   "cell_type": "code",
   "execution_count": 3,
   "metadata": {},
   "outputs": [],
   "source": [
    "pstar = ps.compute_barycenter(P)"
   ]
  },
  {
   "cell_type": "markdown",
   "metadata": {},
   "source": [
    "We run and plot our simulation. At each iteration, the current barycenter is computed, a point is uniformly at random selected, and a step of $\\epsilon=0.5$ towards the barycenter is taken. This loop is repeated until convergence, that is when the $\\ell_2$-distance between the points and the barycenter is less than a threshold $\\theta=0.01$."
   ]
  },
  {
   "cell_type": "code",
   "execution_count": 4,
   "metadata": {},
   "outputs": [
    {
     "data": {
      "image/png": "[encoded data removed]",
      "text/plain": [
       "<Figure size 432x288 with 1 Axes>"
      ]
     },
     "metadata": {
      "needs_background": "light"
     },
     "output_type": "display_data"
    }
   ],
   "source": [
    "plt.scatter(P[:,0],P[:,1])\n",
    "plt.scatter(pstar[0],pstar[1],c='red')\n",
    "\n",
    "while(not(ps.check_convergence(P,pstar,norm='l2',epsilon=0.01))):\n",
    "    i = ps.sample_point(P.shape[0])\n",
    "    pprime = ps.take_a_step(P[i,:],pstar,epsilon=0.5)\n",
    "    \n",
    "    plt.plot([P[i,0],pprime[0]],[P[i,1],pprime[1]],c='blue')\n",
    "    plt.scatter(pprime[0],pprime[1],c='blue')\n",
    "    P[i,:] = pprime\n",
    "    plt.scatter(pstar[0],pstar[1],c='red')\n",
    "    \n",
    "    pstar = ps.compute_barycenter(P)"
   ]
  },
  {
   "cell_type": "markdown",
   "metadata": {},
   "source": [
    "The blue lines represent the trajectory of each point towards the barycenter, the red dots represent the position of the barycenter moving in time.\n",
    "\n",
    "For statistical evaluation, we repeat the above simulation $10^5$ times and we collect statistics."
   ]
  },
  {
   "cell_type": "code",
   "execution_count": 5,
   "metadata": {},
   "outputs": [
    {
     "name": "stderr",
     "output_type": "stream",
     "text": [
      "100%|██████████| 100000/100000 [02:36<00:00, 637.43it/s]\n"
     ]
    }
   ],
   "source": [
    "N = 10**5\n",
    "\n",
    "pstars = []\n",
    "for _ in tqdm(range(N)):\n",
    "    P = data.datapoints1()\n",
    "    pstar = ps.compute_barycenter(P)\n",
    "    \n",
    "    while(not(ps.check_convergence(P,pstar,norm='l2',epsilon=0.01))):\n",
    "        i = ps.sample_point(P.shape[0])\n",
    "        pprime = ps.take_a_step(P[i,:],pstar,epsilon=0.5)\n",
    "\n",
    "        P[i,:] = pprime\n",
    "\n",
    "        pstar = ps.compute_barycenter(P)\n",
    "        \n",
    "    pstars.append(pstar)\n",
    "\n"
   ]
  },
  {
   "cell_type": "markdown",
   "metadata": {},
   "source": [
    "We plot the results."
   ]
  },
  {
   "cell_type": "code",
   "execution_count": 6,
   "metadata": {},
   "outputs": [
    {
     "data": {
      "text/plain": [
       "<matplotlib.collections.PathCollection at 0x7f0784e786a0>"
      ]
     },
     "execution_count": 6,
     "metadata": {},
     "output_type": "execute_result"
    },
    {
     "data": {
      "image/png": "[encoded data removed]",
      "text/plain": [
       "<Figure size 432x288 with 1 Axes>"
      ]
     },
     "metadata": {
      "needs_background": "light"
     },
     "output_type": "display_data"
    }
   ],
   "source": [
    "np_pstars = np.array(pstars) \n",
    "\n",
    "P = data.datapoints1()\n",
    "pstar = ps.compute_barycenter(P)\n",
    "\n",
    "plt.hist2d(np_pstars[:,0],np_pstars[:,1])\n",
    "plt.scatter(P[:,0],P[:,1],c='green')\n",
    "plt.scatter(pstar[0],pstar[1],c='red')"
   ]
  },
  {
   "cell_type": "markdown",
   "metadata": {},
   "source": [
    "The red dot represent the barycenter at time step $0$. The 2D histogram shows the probability density of the final convergent consensus. "
   ]
  }
 ],
 "metadata": {
  "kernelspec": {
   "display_name": "Python 3",
   "language": "python",
   "name": "python3"
  },
  "language_info": {
   "codemirror_mode": {
    "name": "ipython",
    "version": 3
   },
   "file_extension": ".py",
   "mimetype": "text/x-python",
   "name": "python",
   "nbconvert_exporter": "python",
   "pygments_lexer": "ipython3",
   "version": "3.6.10"
  }
 },
 "nbformat": 4,
 "nbformat_minor": 4
}
