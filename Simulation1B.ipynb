{
 "cells": [
  {
   "cell_type": "markdown",
   "metadata": {},
   "source": [
    "# Simulation 1B\n",
    "\n",
    "In this simulation we run the football example using the *direct method* with the first set of data matrices ($P_3, P_4$).\n",
    "\n",
    "We consider the two following direct methods:\n",
    "- Exploitation by rank centrality (RC) and aggregation by weighting average (WA)\n",
    "- Exploitation by netflow (NF) and aggregation by weighting average (WA)"
   ]
  },
  {
   "cell_type": "markdown",
   "metadata": {},
   "source": [
    "### Importing Libraries\n",
    "\n",
    "Importing standard libraries and the following modules:\n",
    "- *datagenerator.py*: containing data sources;\n",
    "- *normalizationlib.py*: containing functions to perform normalizations;\n",
    "- *aggregationlib.py*: containing functions to perform aggregation;\n",
    "- *exploitationlib.py*: containing functions to perform exploitation."
   ]
  },
  {
   "cell_type": "code",
   "execution_count": 1,
   "metadata": {},
   "outputs": [],
   "source": [
    "import numpy as np\n",
    "import matplotlib.pyplot as plt\n",
    "\n",
    "import datagenerator as data\n",
    "import normalizationlib as norm\n",
    "import aggregationlib as agg\n",
    "import exploitationlib as expl"
   ]
  },
  {
   "cell_type": "markdown",
   "metadata": {},
   "source": [
    "# Football Example\n",
    "\n",
    "We consider four team (Tunisia, Malta, Brazil, Argentina). The two experts agree that \n",
    "- Tunisia and Malta are weak teams;\n",
    "- Brazil and Argentina are strong teams;\n",
    "- Brazil beats Tunisia and Malta moderately;\n",
    "- Argentina beats Tunisia and Malta largely;\n",
    "- Brazil beats Argentina narrowly."
   ]
  },
  {
   "cell_type": "markdown",
   "metadata": {},
   "source": [
    "### Loading the data"
   ]
  },
  {
   "cell_type": "code",
   "execution_count": 2,
   "metadata": {},
   "outputs": [],
   "source": [
    "P,labels = data.get_PREF_tensor_football2()\n",
    "n_choices = P.shape[0]\n",
    "n_experts = P.shape[2]\n",
    "labels = np.array(labels)"
   ]
  },
  {
   "cell_type": "markdown",
   "metadata": {},
   "source": [
    "### Normalizing data using centrality matrix"
   ]
  },
  {
   "cell_type": "code",
   "execution_count": 3,
   "metadata": {},
   "outputs": [],
   "source": [
    "S = norm.centrality_tensor(P)"
   ]
  },
  {
   "cell_type": "markdown",
   "metadata": {},
   "source": [
    "### Direct Approach: RC + WA (same as RC+OWA)"
   ]
  },
  {
   "cell_type": "code",
   "execution_count": 4,
   "metadata": {},
   "outputs": [],
   "source": [
    "R1 = expl.RCT_3D(S)\n",
    "r1 = agg.WA_2D(R1)"
   ]
  },
  {
   "cell_type": "markdown",
   "metadata": {},
   "source": [
    "### Direct Approach: NF + WA (same as NF+OWA)"
   ]
  },
  {
   "cell_type": "code",
   "execution_count": 5,
   "metadata": {},
   "outputs": [],
   "source": [
    "R3 = expl.NFT_3D(S)\n",
    "r3 = agg.WA_2D(R3)"
   ]
  },
  {
   "cell_type": "markdown",
   "metadata": {},
   "source": [
    "### Printing the intermediate rankings of each expert"
   ]
  },
  {
   "cell_type": "code",
   "execution_count": 6,
   "metadata": {},
   "outputs": [
    {
     "name": "stdout",
     "output_type": "stream",
     "text": [
      "RC ranking\n",
      "Expert 0: ['Argentina' 'Brazil' 'Tunisia' 'Malta']\n",
      "Expert 1: ['Brazil' 'Argentina' 'Malta' 'Tunisia']\n",
      "\n",
      "\n",
      "NF ranking\n",
      "Expert 0: ['Argentina' 'Brazil' 'Tunisia' 'Malta']\n",
      "Expert 1: ['Argentina' 'Brazil' 'Tunisia' 'Malta']\n"
     ]
    }
   ],
   "source": [
    "print('RC ranking')\n",
    "for i in range(R1.shape[1]):\n",
    "    print('Expert {0}: {1}'.format(i,labels[np.argsort(R1[:,i])[::-1]]))\n",
    "\n",
    "print('\\n')\n",
    "print('NF ranking')\n",
    "for i in range(R3.shape[1]):\n",
    "    print('Expert {0}: {1}'.format(i,labels[np.argsort(R3[:,i])[::-1]]))"
   ]
  },
  {
   "cell_type": "markdown",
   "metadata": {},
   "source": [
    "### Printing the final consesus ranking"
   ]
  },
  {
   "cell_type": "code",
   "execution_count": 7,
   "metadata": {},
   "outputs": [
    {
     "name": "stdout",
     "output_type": "stream",
     "text": [
      "RC+WA ranking: ['Brazil' 'Argentina' 'Tunisia' 'Malta']\n",
      "NF+WA ranking: ['Argentina' 'Brazil' 'Tunisia' 'Malta']\n"
     ]
    },
    {
     "data": {
      "text/plain": [
       "<matplotlib.legend.Legend at 0x7f5632377af0>"
      ]
     },
     "execution_count": 7,
     "metadata": {},
     "output_type": "execute_result"
    },
    {
     "data": {
      "image/png": "[encoded data removed]",
      "text/plain": [
       "<Figure size 432x288 with 1 Axes>"
      ]
     },
     "metadata": {
      "needs_background": "light"
     },
     "output_type": "display_data"
    },
    {
     "data": {
      "image/png": "[encoded data removed]",
      "text/plain": [
       "<Figure size 432x288 with 1 Axes>"
      ]
     },
     "metadata": {
      "needs_background": "light"
     },
     "output_type": "display_data"
    }
   ],
   "source": [
    "print('RC+WA ranking: {0}'.format(labels[np.argsort(r1)[::-1]]))\n",
    "\n",
    "plt.plot(np.arange(n_choices)+1,r1,label='Final')\n",
    "plt.xlabel('Choices')\n",
    "plt.ylabel('Preferences (RC+WA)')\n",
    "plt.legend()\n",
    "\n",
    "print('NF+WA ranking: {0}'.format(labels[np.argsort(r3)[::-1]]))\n",
    "\n",
    "plt.figure()\n",
    "plt.plot(np.arange(n_choices)+1,r3,label='Final')\n",
    "plt.xlabel('Choices')\n",
    "plt.ylabel('Preferences (NF+WA)')\n",
    "plt.legend()"
   ]
  }
 ],
 "metadata": {
  "kernelspec": {
   "display_name": "Python 3",
   "language": "python",
   "name": "python3"
  },
  "language_info": {
   "codemirror_mode": {
    "name": "ipython",
    "version": 3
   },
   "file_extension": ".py",
   "mimetype": "text/x-python",
   "name": "python",
   "nbconvert_exporter": "python",
   "pygments_lexer": "ipython3",
   "version": "3.6.10"
  }
 },
 "nbformat": 4,
 "nbformat_minor": 2
}
