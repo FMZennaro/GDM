{
 "cells": [
  {
   "cell_type": "markdown",
   "metadata": {},
   "source": [
    "# Simulation 3B\n",
    "\n",
    "In this simulation we assess the **sensitivity** of two *direct methods* using a parametric variant of the football example with data matrices ($P_1(\\eta), P_2$).\n",
    "\n",
    "We consider the two following direct methods:\n",
    "- Exploitation by rank centrality (RC) and aggregation by weighted average (WA)\n",
    "- Exploitation by netflow (NF) and aggregation by weighted average (WA)"
   ]
  },
  {
   "cell_type": "markdown",
   "metadata": {},
   "source": [
    "### Importing Libraries\n",
    "\n",
    "Importing standard libraries and the following modules:\n",
    "- *datagenerator.py*: containing data sources;\n",
    "- *normalizationlib.py*: containing functions to perform normalizations;\n",
    "- *aggregationlib.py*: containing functions to perform aggregation;\n",
    "- *exploitationlib.py*: containing functions to perform exploitation."
   ]
  },
  {
   "cell_type": "code",
   "execution_count": 1,
   "metadata": {},
   "outputs": [],
   "source": [
    "import numpy as np\n",
    "import matplotlib.pyplot as plt\n",
    "\n",
    "import datagenerator as data\n",
    "import normalizationlib as norm\n",
    "import aggregationlib as agg\n",
    "import exploitationlib as expl"
   ]
  },
  {
   "cell_type": "markdown",
   "metadata": {},
   "source": [
    "# Football Example\n",
    "\n",
    "We consider four team (Tunisia, Malta, Brazil, Argentina). The two experts agree that \n",
    "- Tunisia and Malta are weak teams;\n",
    "- Brazil and Argentina are strong teams;\n",
    "- Brazil beats Tunisia and Malta moderately, as a function of the parameter $\\eta$;\n",
    "- Argentina beats Tunisia and Malta largely;\n",
    "- Brazil beats Argentina narrowly.\n",
    "\n",
    "At each iteration, we will increase the value of the parameter $\\eta$ for one expert, thus making Brazil beating Tunisia more largely at each iteration."
   ]
  },
  {
   "cell_type": "markdown",
   "metadata": {},
   "source": [
    "### Defining the two GDM methods"
   ]
  },
  {
   "cell_type": "code",
   "execution_count": 2,
   "metadata": {},
   "outputs": [],
   "source": [
    "def RC_WA(S):\n",
    "    R1 = expl.RCT_3D(S)\n",
    "    r1 = agg.WA_2D(R1)\n",
    "    return r1\n",
    "\n",
    "def NF_WA(S):\n",
    "    R3 = expl.NFT_3D(S)\n",
    "    r3 = agg.WA_2D(R3)\n",
    "    return r3"
   ]
  },
  {
   "cell_type": "markdown",
   "metadata": {},
   "source": [
    "### Defining the range of $\\eta$\n",
    "We define the range of $\\eta$ within the constraint that any, for any preference, $0<p_{ij}<1$."
   ]
  },
  {
   "cell_type": "code",
   "execution_count": 3,
   "metadata": {},
   "outputs": [],
   "source": [
    "etas = np.arange(0,0.3,0.01)"
   ]
  },
  {
   "cell_type": "markdown",
   "metadata": {},
   "source": [
    "### Running the simulations"
   ]
  },
  {
   "cell_type": "code",
   "execution_count": 4,
   "metadata": {},
   "outputs": [],
   "source": [
    "n_choices = 4\n",
    "n_simuls = len(etas)\n",
    "\n",
    "rankings_RC_WA = np.zeros((n_simuls,n_choices))\n",
    "rankings_NF_WA = np.zeros((n_simuls,n_choices))\n",
    "\n",
    "for i,eta in enumerate(etas):\n",
    "    P,labels = data.get_PREF_tensor_footballP2(eta)\n",
    "    S = norm.centrality_tensor(P)\n",
    "    rankings_RC_WA[i,:]= RC_WA(S)\n",
    "    rankings_NF_WA[i,:]= NF_WA(S)"
   ]
  },
  {
   "cell_type": "markdown",
   "metadata": {},
   "source": [
    "### Plotting the results"
   ]
  },
  {
   "cell_type": "code",
   "execution_count": 5,
   "metadata": {},
   "outputs": [
    {
     "data": {
      "text/plain": [
       "Text(0, 0.5, 'Ranking')"
      ]
     },
     "execution_count": 5,
     "metadata": {},
     "output_type": "execute_result"
    },
    {
     "data": {
      "image/png": "[encoded data removed]",
      "text/plain": [
       "<Figure size 432x288 with 1 Axes>"
      ]
     },
     "metadata": {
      "needs_background": "light"
     },
     "output_type": "display_data"
    }
   ],
   "source": [
    "for i in range(n_choices):\n",
    "    plt.plot(etas,rankings_RC_WA[:,i], label=labels[i])\n",
    "plt.legend()\n",
    "plt.title('Ranking for RC+WA')\n",
    "plt.xlabel('Etas')\n",
    "plt.ylabel('Ranking')"
   ]
  },
  {
   "cell_type": "code",
   "execution_count": 6,
   "metadata": {},
   "outputs": [
    {
     "data": {
      "text/plain": [
       "Text(0, 0.5, 'Ranking')"
      ]
     },
     "execution_count": 6,
     "metadata": {},
     "output_type": "execute_result"
    },
    {
     "data": {
      "image/png": "[encoded data removed]",
      "text/plain": [
       "<Figure size 432x288 with 1 Axes>"
      ]
     },
     "metadata": {
      "needs_background": "light"
     },
     "output_type": "display_data"
    }
   ],
   "source": [
    "for i in range(n_choices):\n",
    "    plt.plot(etas,rankings_NF_WA[:,i], label=labels[i])\n",
    "plt.legend()\n",
    "plt.title('Ranking for NF+WA')\n",
    "plt.xlabel('Etas')\n",
    "plt.ylabel('Ranking')"
   ]
  },
  {
   "cell_type": "code",
   "execution_count": null,
   "metadata": {},
   "outputs": [],
   "source": []
  }
 ],
 "metadata": {
  "kernelspec": {
   "display_name": "Python 3",
   "language": "python",
   "name": "python3"
  },
  "language_info": {
   "codemirror_mode": {
    "name": "ipython",
    "version": 3
   },
   "file_extension": ".py",
   "mimetype": "text/x-python",
   "name": "python",
   "nbconvert_exporter": "python",
   "pygments_lexer": "ipython3",
   "version": "3.8.1"
  }
 },
 "nbformat": 4,
 "nbformat_minor": 2
}
